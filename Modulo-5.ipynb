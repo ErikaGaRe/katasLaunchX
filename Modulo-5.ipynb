{
 "cells": [
  {
   "cell_type": "markdown",
   "metadata": {},
   "source": [
    "# EJERCICIO 1 - UTILIZAR OPERADORES ARITMETICOS"
   ]
  },
  {
   "cell_type": "code",
   "execution_count": null,
   "metadata": {},
   "outputs": [],
   "source": [
    "# Crear variables para almacenar las dos distancias\n",
    "# ¡Asegúrate de quitar las comas!\n",
    "#distancia respecto al sol en km\n",
    "tierra=149597870\n",
    "jupiter=778547200"
   ]
  },
  {
   "cell_type": "code",
   "execution_count": null,
   "metadata": {},
   "outputs": [],
   "source": [
    "# calculando las distancias entre planetas\n",
    "distancia=abs(tierra-jupiter)\n",
    "distanciaMilla=distancia*0.621\n",
    "print(distancia)\n",
    "print(round(distanciaMilla))"
   ]
  },
  {
   "cell_type": "markdown",
   "metadata": {},
   "source": [
    "# EJERCICIO 2 CONVIERTE CADENAS EN NUMUEROS Y USA VALORES ABSOLUTOS"
   ]
  },
  {
   "cell_type": "code",
   "execution_count": null,
   "metadata": {},
   "outputs": [],
   "source": [
    "# Almacenar las entradas del usuario\n",
    "#Pista: variable = input(\"¿Cuál es tu nombre?\")\n",
    "# saturno 1433500000 Urano\t2872500000\n",
    "planeta1=input(\"Distancia de saturno con respecto al sol en km= \")\n",
    "planeta2=input(\"Distancia de urano respecto al sol en km= \")\n"
   ]
  },
  {
   "cell_type": "code",
   "execution_count": null,
   "metadata": {},
   "outputs": [],
   "source": [
    "# Convierte las cadenas de ambos planetas a números enteros\n",
    "mercurio=int(planeta1)\n",
    "urano=int(planeta2)\n"
   ]
  },
  {
   "cell_type": "code",
   "execution_count": null,
   "metadata": {},
   "outputs": [],
   "source": [
    "# Realizar el cálculo y determinar el valor absoluto\n",
    "distancia=abs(mercurio-urano)\n",
    "\n",
    "# Convertir de KM a Millas\n",
    "distanciaMilla= round(distancia*0.621)\n",
    "print(distancia)\n",
    "print(distanciaMilla)"
   ]
  }
 ],
 "metadata": {
  "interpreter": {
   "hash": "3e1ae163af93b55587fd23561f82eafe0afc4db7dfe16155fc503beb28e7c263"
  },
  "kernelspec": {
   "display_name": "Python 3.10.2 64-bit",
   "language": "python",
   "name": "python3"
  },
  "language_info": {
   "codemirror_mode": {
    "name": "ipython",
    "version": 3
   },
   "file_extension": ".py",
   "mimetype": "text/x-python",
   "name": "python",
   "nbconvert_exporter": "python",
   "pygments_lexer": "ipython3",
   "version": "3.10.2"
  },
  "orig_nbformat": 4
 },
 "nbformat": 4,
 "nbformat_minor": 2
}
