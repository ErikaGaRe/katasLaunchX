{
 "cells": [
  {
   "cell_type": "markdown",
   "metadata": {},
   "source": [
    "# Ejercicio 7 creacion de un bucle \"While\""
   ]
  },
  {
   "cell_type": "code",
   "execution_count": 2,
   "metadata": {},
   "outputs": [],
   "source": [
    "# variable que almacena datos del usuario\n",
    "New_planet= ''\n",
    "# variable que almacena todo los planetas que ingresa el usuario\n",
    "planets=[]"
   ]
  },
  {
   "cell_type": "code",
   "execution_count": 4,
   "metadata": {},
   "outputs": [
    {
     "name": "stdout",
     "output_type": "stream",
     "text": [
      "['urano', 'martes', 'venus']\n"
     ]
    }
   ],
   "source": [
    "# Ciclo while \n",
    "#mientras que la variable new_planet sea diferente de done\n",
    "while New_planet.lower() != 'done':\n",
    "    # Verificamos si hay un valor en New_planet\n",
    "    if New_planet:\n",
    "        # Almacenamos ese valor en la lista\n",
    "        planets.append(New_planet)\n",
    "    # Capturamos un nuevo valor\n",
    "    New_planet= input('ingresa un nuevo planeta o termina con done')\n",
    "#imprimos los datos del arreglo\n",
    "print(planets)"
   ]
  },
  {
   "cell_type": "markdown",
   "metadata": {},
   "source": [
    "# Ejercicio 2 Creacion de un ciclo for"
   ]
  },
  {
   "cell_type": "code",
   "execution_count": 6,
   "metadata": {},
   "outputs": [
    {
     "name": "stdout",
     "output_type": "stream",
     "text": [
      "urano\n",
      "martes\n",
      "venus\n",
      "Mision cumplida!!\n"
     ]
    }
   ],
   "source": [
    "# De la biblioteca time, importamos (traemos) la clase sleep\n",
    "\n",
    "from time import sleep\n",
    "\n",
    "# lista planet\n",
    "\n",
    "# Para cada planeta de la lista planets\n",
    "for planeta in planets:\n",
    "    #Muestra el número\n",
    "    print(planeta)\n",
    "    # Espera (1segundo)\n",
    "    sleep(1)\n",
    "\n",
    "# Muestra el mensaje Blast off\n",
    "print(\"Mision cumplida!!\")"
   ]
  }
 ],
 "metadata": {
  "interpreter": {
   "hash": "3e1ae163af93b55587fd23561f82eafe0afc4db7dfe16155fc503beb28e7c263"
  },
  "kernelspec": {
   "display_name": "Python 3.10.2 64-bit",
   "language": "python",
   "name": "python3"
  },
  "language_info": {
   "codemirror_mode": {
    "name": "ipython",
    "version": 3
   },
   "file_extension": ".py",
   "mimetype": "text/x-python",
   "name": "python",
   "nbconvert_exporter": "python",
   "pygments_lexer": "ipython3",
   "version": "3.10.2"
  },
  "orig_nbformat": 4
 },
 "nbformat": 4,
 "nbformat_minor": 2
}
