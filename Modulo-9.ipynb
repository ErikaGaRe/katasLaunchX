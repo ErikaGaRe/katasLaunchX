{
 "cells": [
  {
   "cell_type": "markdown",
   "metadata": {},
   "source": [
    "# Ejercicio 1 Trabajar con argumentos en funciones"
   ]
  },
  {
   "cell_type": "code",
   "execution_count": 101,
   "metadata": {},
   "outputs": [],
   "source": [
    "# funcion para leer 3 tanques de combustible y muestre el promedio\n",
    "def tanque_combustible(tanque1,tanque2,tanque3):\n",
    "    promedio = (tanque1 + tanque2 + tanque3)/3\n",
    "    return f\"\"\"\n",
    "               Tanque 1: {tanque1}%\n",
    "               Tanque 2: {tanque2}%\n",
    "               Tanque 3: {tanque3}%\n",
    "               Promedio: {promedio}%\"\"\"\n",
    "    "
   ]
  },
  {
   "cell_type": "code",
   "execution_count": 102,
   "metadata": {},
   "outputs": [
    {
     "name": "stdout",
     "output_type": "stream",
     "text": [
      "\n",
      "               Tanque 1: 20%\n",
      "               Tanque 2: 30%\n",
      "               Tanque 3: 40%\n",
      "               Promedio: 30.0%\n"
     ]
    }
   ],
   "source": [
    "print(tanque_combustible(20,30,40))"
   ]
  },
  {
   "cell_type": "code",
   "execution_count": 103,
   "metadata": {},
   "outputs": [],
   "source": [
    "#funcion promedio\n",
    "def promedio(valores):\n",
    "    suma=sum(valores)\n",
    "    cantidad=len(valores)\n",
    "    valor = suma/cantidad\n",
    "    return valor"
   ]
  },
  {
   "cell_type": "code",
   "execution_count": 104,
   "metadata": {},
   "outputs": [],
   "source": [
    "# actualizar \n",
    "# funcion para leer 3 tanques de combustible y muestre el promedio\n",
    "def tanque_combustible(tanque1,tanque2,tanque3):\n",
    "    return f\"\"\"\n",
    "               Tanque 1: {tanque1}%\n",
    "               Tanque 2: {tanque2}%\n",
    "               Tanque 3: {tanque3}%\n",
    "               Promedio: {promedio([tanque1,tanque2,tanque3])}%\"\"\""
   ]
  },
  {
   "cell_type": "code",
   "execution_count": 105,
   "metadata": {},
   "outputs": [
    {
     "name": "stdout",
     "output_type": "stream",
     "text": [
      "\n",
      "               Tanque 1: 20%\n",
      "               Tanque 2: 30%\n",
      "               Tanque 3: 40%\n",
      "               Promedio: 30.0%\n"
     ]
    }
   ],
   "source": [
    "# imprime el reporte\n",
    "print(tanque_combustible(20,30,40))"
   ]
  },
  {
   "cell_type": "markdown",
   "metadata": {},
   "source": [
    "# Ejercicio 2 Trabajar con argumentos de palabras clave en funciones"
   ]
  },
  {
   "cell_type": "code",
   "execution_count": 106,
   "metadata": {},
   "outputs": [],
   "source": [
    "# Función con un informe preciso de la misión. Considera hora de prelanzamiento, tiempo de vuelo, destino, tanque externo y tanque interno\n",
    "def reporte(lanzamiento,t_vuelo,destino,tanque_ext,tanque_int):\n",
    "    return f\"\"\"\n",
    "               lanzamiento: {lanzamiento}% minutes\n",
    "               Tiempo de vuelo: {t_vuelo}%\n",
    "               Destino: {destino}%\n",
    "               Tanque externo:{tanque_ext}%\n",
    "               Tanque interno:{tanque_int}%\n",
    "               Promedio: {promedio([tanque_ext,tanque_int])}%\"\"\"\n"
   ]
  },
  {
   "cell_type": "code",
   "execution_count": 107,
   "metadata": {},
   "outputs": [],
   "source": [
    "# nuevo reporte\n",
    "def reporte(destino,*temp_vuelo,**tanques):\n",
    "    return f\"\"\"\n",
    "               Destino: {destino}%\n",
    "               Tiempo de vuelo: {sum(temp_vuelo)}% horas\n",
    "               Total de combustible:{sum(tanques.values())}% galones\n",
    "               Promedio de combustible: {promedio([tanques])}%\"\"\"\n"
   ]
  },
  {
   "cell_type": "code",
   "execution_count": 108,
   "metadata": {},
   "outputs": [],
   "source": [
    "#tanques especificos\n",
    "def reporte(destino,*temp_vuelo,**tanques):\n",
    "    suma=sum(tanques.values())\n",
    "    cantidad=len(tanques)\n",
    "    valor = suma/cantidad\n",
    "    general=f\"\"\"\n",
    "               Destino: {destino}\n",
    "               Tiempo de vuelo: {sum(temp_vuelo)} horas\n",
    "               Total de combustible:{sum(tanques.values())} galones\n",
    "               Promedio de combustible: {valor}\\n\"\"\"\n",
    "    for tanque,galones in tanques.items():\n",
    "        general += f\"{tanque} tanque- {galones} galones\\n\"\n",
    "    return general\n"
   ]
  },
  {
   "cell_type": "code",
   "execution_count": 118,
   "metadata": {},
   "outputs": [
    {
     "name": "stdout",
     "output_type": "stream",
     "text": [
      "\n",
      "               Destino: Luna\n",
      "               Tiempo de vuelo: 9 horas\n",
      "               Total de combustible:1800 galones\n",
      "               Promedio de combustible: 600.0\n",
      "externo tanque- 500 galones\n",
      "izquierdo tanque- 800 galones\n",
      "principal tanque- 500 galones\n",
      "\n"
     ]
    }
   ],
   "source": [
    "# imprime el reporte\n",
    "print(reporte(\"Luna\",1,3,5,externo=500,izquierdo=800,principal=500))"
   ]
  }
 ],
 "metadata": {
  "interpreter": {
   "hash": "3e1ae163af93b55587fd23561f82eafe0afc4db7dfe16155fc503beb28e7c263"
  },
  "kernelspec": {
   "display_name": "Python 3.10.2 64-bit",
   "language": "python",
   "name": "python3"
  },
  "language_info": {
   "codemirror_mode": {
    "name": "ipython",
    "version": 3
   },
   "file_extension": ".py",
   "mimetype": "text/x-python",
   "name": "python",
   "nbconvert_exporter": "python",
   "pygments_lexer": "ipython3",
   "version": "3.10.2"
  },
  "orig_nbformat": 4
 },
 "nbformat": 4,
 "nbformat_minor": 2
}
