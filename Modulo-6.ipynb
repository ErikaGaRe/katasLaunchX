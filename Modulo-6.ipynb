{
 "cells": [
  {
   "cell_type": "markdown",
   "metadata": {},
   "source": [
    "# Ejercicio 1: Crear y usar listas de python"
   ]
  },
  {
   "cell_type": "code",
   "execution_count": 22,
   "metadata": {},
   "outputs": [],
   "source": [
    "#Creamos la lista planets y la mostramos\n",
    "planets = ['Mercury', 'Venus', 'Earth', 'Mars', 'Jupiter', 'Saturn', 'Uranus', 'Neptune']"
   ]
  },
  {
   "cell_type": "code",
   "execution_count": 23,
   "metadata": {},
   "outputs": [
    {
     "name": "stdout",
     "output_type": "stream",
     "text": [
      "There are 8 planets in the solar system.\n"
     ]
    }
   ],
   "source": [
    "# numero total de planetas, usando len\n",
    "No_planets = len(planets)\n",
    "print('There are',No_planets, 'planets in the solar system.')"
   ]
  },
  {
   "cell_type": "code",
   "execution_count": 24,
   "metadata": {},
   "outputs": [
    {
     "name": "stdout",
     "output_type": "stream",
     "text": [
      "There are actually 9 planets in the solar system.\n",
      "The last planet is Pluto\n"
     ]
    }
   ],
   "source": [
    "# agregar pluton con .append\n",
    "#mostrar el ultimo elemento de la lista indice -1\n",
    "planets.append('Pluto')\n",
    "No_planets = len(planets)\n",
    "print('There are actually', No_planets, 'planets in the solar system.')\n",
    "print('The last planet is', planets[-1])"
   ]
  },
  {
   "cell_type": "markdown",
   "metadata": {},
   "source": [
    "# Ejercicio 2 Trabajando con datos de una lista\n"
   ]
  },
  {
   "cell_type": "code",
   "execution_count": 25,
   "metadata": {},
   "outputs": [],
   "source": [
    "# planetas\n",
    "planets = ['Mercurio', 'Venus', 'Tierra', 'Martes', 'Jupiter', 'Saturno', 'Urano', 'Neptuno']"
   ]
  },
  {
   "cell_type": "code",
   "execution_count": 26,
   "metadata": {},
   "outputs": [],
   "source": [
    "#solicitando al usuario el nombre de un planeta\n",
    "dato1=input(\"ingresa el nombre de un planeta del sistema solar \")"
   ]
  },
  {
   "cell_type": "code",
   "execution_count": 27,
   "metadata": {},
   "outputs": [
    {
     "name": "stdout",
     "output_type": "stream",
     "text": [
      "El planeta ingresado esta en la posicion 7 de planetas del sol\n"
     ]
    }
   ],
   "source": [
    "# poscionando el planeta tecleado \n",
    "planeta=planets.index(dato1)\n",
    "print('El planeta ingresado esta en la posicion', planeta + 1, 'de planetas del sol')"
   ]
  },
  {
   "cell_type": "code",
   "execution_count": 29,
   "metadata": {},
   "outputs": [
    {
     "name": "stdout",
     "output_type": "stream",
     "text": [
      "planetas que estan antes de Urano\n",
      "['Mercurio', 'Venus', 'Tierra', 'Martes', 'Jupiter', 'Saturno']\n"
     ]
    }
   ],
   "source": [
    "# planetas cercanos\n",
    "planetasAntes = planets[0:planeta]\n",
    "print('planetas que estan antes de '+ dato1)\n",
    "print(planetasAntes)"
   ]
  },
  {
   "cell_type": "code",
   "execution_count": 34,
   "metadata": {},
   "outputs": [
    {
     "name": "stdout",
     "output_type": "stream",
     "text": [
      "planetas que estan despues de Urano\n",
      "['Neptuno']\n"
     ]
    }
   ],
   "source": [
    "# planetas cercanos\n",
    "planetasDespues = planets[planeta+1:]\n",
    "print('planetas que estan despues de '+ dato1)\n",
    "print(planetasDespues)"
   ]
  }
 ],
 "metadata": {
  "interpreter": {
   "hash": "3e1ae163af93b55587fd23561f82eafe0afc4db7dfe16155fc503beb28e7c263"
  },
  "kernelspec": {
   "display_name": "Python 3.10.2 64-bit",
   "language": "python",
   "name": "python3"
  },
  "language_info": {
   "codemirror_mode": {
    "name": "ipython",
    "version": 3
   },
   "file_extension": ".py",
   "mimetype": "text/x-python",
   "name": "python",
   "nbconvert_exporter": "python",
   "pygments_lexer": "ipython3",
   "version": "3.10.2"
  },
  "orig_nbformat": 4
 },
 "nbformat": 4,
 "nbformat_minor": 2
}
