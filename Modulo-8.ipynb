{
 "cells": [
  {
   "cell_type": "markdown",
   "metadata": {},
   "source": [
    "# Ejercicio 1: Creacion de diccionarios de Python"
   ]
  },
  {
   "cell_type": "code",
   "execution_count": 2,
   "metadata": {},
   "outputs": [],
   "source": [
    "#diccionario de Marte\n",
    "planeta={\n",
    "    'name':'Mars',\n",
    "    'moons': 2\n",
    "}"
   ]
  },
  {
   "cell_type": "code",
   "execution_count": 3,
   "metadata": {},
   "outputs": [
    {
     "name": "stdout",
     "output_type": "stream",
     "text": [
      "Nombre: Mars\n",
      "Lunas: 2\n"
     ]
    }
   ],
   "source": [
    "# Mostrando los valores del diccionario creado\n",
    "print('Nombre: '+planeta['name'])\n",
    "print('Lunas: '+ str(planeta['moons']))"
   ]
  },
  {
   "cell_type": "code",
   "execution_count": 4,
   "metadata": {},
   "outputs": [],
   "source": [
    "# añadiendo circunferencia\n",
    "planeta['circunferencia'] = {\n",
    "    'polar': 6752,\n",
    "    'equatorial': 6792\n",
    "}"
   ]
  },
  {
   "cell_type": "code",
   "execution_count": 5,
   "metadata": {},
   "outputs": [
    {
     "name": "stdout",
     "output_type": "stream",
     "text": [
      "Nombre: Mars\n",
      "Circunferencia polar: 6752\n"
     ]
    }
   ],
   "source": [
    "#imprimiendo el nombre y la cicunferencia polar\n",
    "# Mostrando los valores del diccionario creado\n",
    "print('Nombre: '+planeta['name'])\n",
    "print( f'Circunferencia polar: {planeta[\"circunferencia\"][\"polar\"]}')\n"
   ]
  },
  {
   "cell_type": "markdown",
   "metadata": {},
   "source": [
    "# Ejercicio 2 Programacion dinamica con diccionarios"
   ]
  },
  {
   "cell_type": "code",
   "execution_count": 6,
   "metadata": {},
   "outputs": [],
   "source": [
    "# planetas y lunas del sistema solar\n",
    "planet_moons={\n",
    "    'mercury':0,\n",
    "    'venus':0,\n",
    "    'earth':1,\n",
    "    'mars':2,\n",
    "    'jupyter':79,\n",
    "    'saturn':82,\n",
    "    'uranus':27,\n",
    "    'neptune':14,\n",
    "    'pluto':5,\n",
    "    'haumea':2,\n",
    "    'makemake':1,\n",
    "    'eris':1 \n",
    "}"
   ]
  },
  {
   "cell_type": "code",
   "execution_count": 7,
   "metadata": {},
   "outputs": [
    {
     "name": "stdout",
     "output_type": "stream",
     "text": [
      "hay 12 planetas en el sistema solar\n"
     ]
    }
   ],
   "source": [
    "#determinando el numero de planetas\n",
    "#usando el metodo keys() para devolver los objetos\n",
    "planets=len(planet_moons.keys())\n",
    "print(f'hay {planets} planetas en el sistema solar')"
   ]
  },
  {
   "cell_type": "code",
   "execution_count": 8,
   "metadata": {},
   "outputs": [
    {
     "name": "stdout",
     "output_type": "stream",
     "text": [
      "hay 214 en el sistema solar\n",
      "hay 17.833333333333332 por planeta\n"
     ]
    }
   ],
   "source": [
    "# dterminando numero de lunas\n",
    "moons=0\n",
    "for moon in planet_moons.values():\n",
    "    moons= moons + moon\n",
    "\n",
    "# total de lunas\n",
    "print(f'hay {moons} en el sistema solar')\n",
    "# promedio\n",
    "promedio=moons/planets\n",
    "print(f'hay {promedio} por planeta')\n"
   ]
  }
 ],
 "metadata": {
  "interpreter": {
   "hash": "3e1ae163af93b55587fd23561f82eafe0afc4db7dfe16155fc503beb28e7c263"
  },
  "kernelspec": {
   "display_name": "Python 3.10.2 64-bit",
   "language": "python",
   "name": "python3"
  },
  "language_info": {
   "codemirror_mode": {
    "name": "ipython",
    "version": 3
   },
   "file_extension": ".py",
   "mimetype": "text/x-python",
   "name": "python",
   "nbconvert_exporter": "python",
   "pygments_lexer": "ipython3",
   "version": "3.10.2"
  },
  "orig_nbformat": 4
 },
 "nbformat": 4,
 "nbformat_minor": 2
}
