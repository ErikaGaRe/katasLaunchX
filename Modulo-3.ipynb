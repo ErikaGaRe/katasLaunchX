{
 "cells": [
  {
   "cell_type": "markdown",
   "metadata": {},
   "source": [
    "# EJERCICIO 1 ASTEROIDE"
   ]
  },
  {
   "cell_type": "code",
   "execution_count": 35,
   "metadata": {},
   "outputs": [
    {
     "name": "stdout",
     "output_type": "stream",
     "text": [
      "Warning! Colision harzard: potentially Hazardous Asteroide\n"
     ]
    }
   ],
   "source": [
    "# Añadir el código necesario para crear una variable que guarde la velocidad del asteroide=49 km/s.\n",
    "# Escribe una expresión de prueba para calcular si necesita una advertencia a 25 km/s.\n",
    "# Agregue las instrucciones que se ejecutarán si la expresión de prueba es true o false.\n",
    "# velocidades en km/s\n",
    "objeto1=49\n",
    "peligro=25\n",
    "if objeto1 >peligro:\n",
    "    print('Warning! Colision harzard: potentially Hazardous Asteroide')\n",
    "else:\n",
    "    print('no news, continue with your flight')\n"
   ]
  },
  {
   "cell_type": "markdown",
   "metadata": {},
   "source": [
    "# EJERCICIO 2"
   ]
  },
  {
   "cell_type": "code",
   "execution_count": 36,
   "metadata": {},
   "outputs": [
    {
     "name": "stdout",
     "output_type": "stream",
     "text": [
      "Salga a ver las luces del cielo2\n"
     ]
    }
   ],
   "source": [
    "# Agrega el código para crear una variable para un asteroide que viaja a 19 km/s\n",
    "# Escribe varias expresiones de prueba para determinar si puedes ver el rayo de luz desde la tierra\n",
    "# Agrega las instrucciones que se ejecutarán si las expresiones de prueba son True o False\n",
    "objeto2=20\n",
    "rayoLuz=20\n",
    "if objeto2 >rayoLuz:\n",
    "    print('Salga a ver las luces del cielo1')\n",
    "elif objeto2 ==rayoLuz:\n",
    "    print('Salga a ver las luces del cielo2')\n",
    "else:\n",
    "    print('sin novedad')\n",
    "\n",
    "\n"
   ]
  },
  {
   "cell_type": "markdown",
   "metadata": {},
   "source": [
    "# EJERCICIO 3"
   ]
  },
  {
   "cell_type": "code",
   "execution_count": 38,
   "metadata": {},
   "outputs": [
    {
     "name": "stdout",
     "output_type": "stream",
     "text": [
      "Warning! Peligro de colision: Asteroide potencialmente peligroso\n",
      "\n",
      "Luces en el cielo\n"
     ]
    }
   ],
   "source": [
    "# Agrega el código para crear nuevas variables para la velocidad y el tamaño del asteroide\n",
    "# Para probar el código, prueba con varias velocidades y tamaños\n",
    "# velocidad mayor o igual a 20 km/s, a veces produce un rayo de luz\n",
    "# asteroide que es más grande que 25 metros pero más pequeña que 1000 metros golpeara la Tierra, causaría mucho daño??\n",
    "# Escribe varias expresiones de prueba o combinaciones de expresiones de prueba para determinar qué mensaje se debe enviar a Tierra.\n",
    "#señales \n",
    "#velocidades km/s\n",
    "peligro=25\n",
    "rayoLuz=20\n",
    "# tamaño\n",
    "diametroMin=25\n",
    "diametroMax=1000\n",
    "class Asteroide:\n",
    "    velocidad=25\n",
    "    tamaño=20\n",
    "\n",
    "objeto3= Asteroide()\n",
    "\n",
    "if objeto3.velocidad >= peligro or (diametroMin < objeto3.tamaño < diametroMax ):\n",
    "    print('Warning! Peligro de colision: Asteroide potencialmente peligroso')\n",
    "else:\n",
    "    print('sin novedad')\n",
    "if objeto3.velocidad>=rayoLuz:\n",
    "    print('\\nLuces en el cielo')\n",
    "else:\n",
    "    print('sin novedad')\n"
   ]
  }
 ],
 "metadata": {
  "interpreter": {
   "hash": "3e1ae163af93b55587fd23561f82eafe0afc4db7dfe16155fc503beb28e7c263"
  },
  "kernelspec": {
   "display_name": "Python 3.10.2 64-bit",
   "language": "python",
   "name": "python3"
  },
  "language_info": {
   "codemirror_mode": {
    "name": "ipython",
    "version": 3
   },
   "file_extension": ".py",
   "mimetype": "text/x-python",
   "name": "python",
   "nbconvert_exporter": "python",
   "pygments_lexer": "ipython3",
   "version": "3.10.2"
  },
  "orig_nbformat": 4
 },
 "nbformat": 4,
 "nbformat_minor": 2
}
